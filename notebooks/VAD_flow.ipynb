{
  "nbformat": 4,
  "nbformat_minor": 0,
  "metadata": {
    "colab": {
      "provenance": [],
      "authorship_tag": "ABX9TyOvGEqiG7ZkmhbM+jqXjQDm",
      "include_colab_link": true
    },
    "kernelspec": {
      "name": "python3",
      "display_name": "Python 3"
    },
    "language_info": {
      "name": "python"
    }
  },
  "cells": [
    {
      "cell_type": "markdown",
      "metadata": {
        "id": "view-in-github",
        "colab_type": "text"
      },
      "source": [
        "<a href=\"https://colab.research.google.com/github/10udCryp7/VAD-flow/blob/main/notebooks/VAD_flow.ipynb\" target=\"_parent\"><img src=\"https://colab.research.google.com/assets/colab-badge.svg\" alt=\"Open In Colab\"/></a>"
      ]
    },
    {
      "cell_type": "markdown",
      "source": [
        "# Installation"
      ],
      "metadata": {
        "id": "pQgT1vcwXYCJ"
      }
    },
    {
      "cell_type": "code",
      "source": [
        "!pip install -q condacolab\n",
        "import condacolab\n",
        "condacolab.install()"
      ],
      "metadata": {
        "colab": {
          "base_uri": "https://localhost:8080/"
        },
        "id": "5YfJ5mviMsLR",
        "outputId": "fe36b74f-211e-4c5d-d5ad-6b4ba70207e6"
      },
      "execution_count": 1,
      "outputs": [
        {
          "output_type": "stream",
          "name": "stdout",
          "text": [
            "⏬ Downloading https://github.com/jaimergp/miniforge/releases/download/24.11.2-1_colab/Miniforge3-colab-24.11.2-1_colab-Linux-x86_64.sh...\n",
            "📦 Installing...\n",
            "📌 Adjusting configuration...\n",
            "🩹 Patching environment...\n",
            "⏲ Done in 0:00:12\n",
            "🔁 Restarting kernel...\n"
          ]
        }
      ]
    },
    {
      "cell_type": "code",
      "source": [
        "!conda install textgrid"
      ],
      "metadata": {
        "colab": {
          "base_uri": "https://localhost:8080/"
        },
        "id": "tnAt2sbqORaD",
        "outputId": "00905111-5dce-4b9a-fd5b-2667d89c0b5d"
      },
      "execution_count": 1,
      "outputs": [
        {
          "output_type": "stream",
          "name": "stdout",
          "text": [
            "Channels:\n",
            " - conda-forge\n",
            "Platform: linux-64\n",
            "Collecting package metadata (repodata.json): - \b\b\\ \b\b| \b\b/ \b\b- \b\b\\ \b\b| \b\b/ \b\b- \b\b\\ \b\b| \b\b/ \b\b- \b\b\\ \b\b| \b\b/ \b\b- \b\b\\ \b\b| \b\b/ \b\b- \b\b\\ \b\b| \b\b/ \b\b- \b\b\\ \b\b| \b\b/ \b\b- \b\b\\ \b\b| \b\b/ \b\b- \b\b\\ \b\b| \b\b/ \b\b- \b\bdone\n",
            "Solving environment: | \b\b/ \b\b- \b\bdone\n",
            "\n",
            "## Package Plan ##\n",
            "\n",
            "  environment location: /usr/local\n",
            "\n",
            "  added / updated specs:\n",
            "    - textgrid\n",
            "\n",
            "\n",
            "The following packages will be downloaded:\n",
            "\n",
            "    package                    |            build\n",
            "    ---------------------------|-----------------\n",
            "    ca-certificates-2025.7.14  |       hbd8a1cb_0         152 KB  conda-forge\n",
            "    certifi-2025.7.14          |     pyhd8ed1ab_0         156 KB  conda-forge\n",
            "    conda-24.11.3              |  py311h38be061_0         1.1 MB  conda-forge\n",
            "    openssl-3.5.1              |       h7b32b05_0         3.0 MB  conda-forge\n",
            "    textgrid-1.5               |     pyhd8ed1ab_0          12 KB  conda-forge\n",
            "    ------------------------------------------------------------\n",
            "                                           Total:         4.4 MB\n",
            "\n",
            "The following NEW packages will be INSTALLED:\n",
            "\n",
            "  textgrid           conda-forge/noarch::textgrid-1.5-pyhd8ed1ab_0 \n",
            "\n",
            "The following packages will be UPDATED:\n",
            "\n",
            "  ca-certificates    conda-forge/linux-64::ca-certificates~ --> conda-forge/noarch::ca-certificates-2025.7.14-hbd8a1cb_0 \n",
            "  certifi                           2024.12.14-pyhd8ed1ab_0 --> 2025.7.14-pyhd8ed1ab_0 \n",
            "  conda                             24.11.2-py311h38be061_1 --> 24.11.3-py311h38be061_0 \n",
            "  openssl                                  3.4.0-h7b32b05_1 --> 3.5.1-h7b32b05_0 \n",
            "\n",
            "\n",
            "\n",
            "Downloading and Extracting Packages:\n",
            "openssl-3.5.1        | 3.0 MB    | :   0% 0/1 [00:00<?, ?it/s]\n",
            "conda-24.11.3        | 1.1 MB    | :   0% 0/1 [00:00<?, ?it/s]\u001b[A\n",
            "\n",
            "certifi-2025.7.14    | 156 KB    | :   0% 0/1 [00:00<?, ?it/s]\u001b[A\u001b[A\n",
            "\n",
            "\n",
            "ca-certificates-2025 | 152 KB    | :   0% 0/1 [00:00<?, ?it/s]\u001b[A\u001b[A\u001b[A\n",
            "\n",
            "\n",
            "\n",
            "textgrid-1.5         | 12 KB     | :   0% 0/1 [00:00<?, ?it/s]\u001b[A\u001b[A\u001b[A\u001b[A\n",
            "\n",
            "openssl-3.5.1        | 3.0 MB    | :   1% 0.00523282961812225/1 [00:00<00:22, 22.96s/it]\n",
            "\n",
            "\n",
            "ca-certificates-2025 | 152 KB    | :  11% 0.10525639543100901/1 [00:00<00:01,  1.16s/it]\u001b[A\u001b[A\u001b[A\n",
            "\n",
            "certifi-2025.7.14    | 156 KB    | : 100% 1.0/1 [00:00<00:00,  1.04s/it]                \u001b[A\u001b[A\n",
            "conda-24.11.3        | 1.1 MB    | :   1% 0.01364371451460054/1 [00:00<00:10, 10.96s/it]\u001b[A\n",
            "\n",
            "\n",
            "\n",
            "textgrid-1.5         | 12 KB     | : 100% 1.0/1 [00:00<00:00,  7.01it/s]\u001b[A\u001b[A\u001b[A\u001b[A\n",
            "\n",
            "\n",
            "\n",
            "textgrid-1.5         | 12 KB     | : 100% 1.0/1 [00:00<00:00,  7.01it/s]\u001b[A\u001b[A\u001b[A\u001b[A\n",
            "\n",
            "\n",
            "ca-certificates-2025 | 152 KB    | : 100% 1.0/1 [00:00<00:00,  1.16s/it]                \u001b[A\u001b[A\u001b[A\n",
            "\n",
            "openssl-3.5.1        | 3.0 MB    | :  11% 0.10988942198056724/1 [00:00<00:01,  1.73s/it]\n",
            "\n",
            "\n",
            "\n",
            "textgrid-1.5         | 12 KB     | : 100% 1.0/1 [00:00<00:00,  7.01it/s]\u001b[A\u001b[A\u001b[A\u001b[A\n",
            "conda-24.11.3        | 1.1 MB    | : 100% 1.0/1 [00:00<00:00, 10.96s/it]                \u001b[A\n",
            "\n",
            "\n",
            "ca-certificates-2025 | 152 KB    | : 100% 1.0/1 [00:00<00:00,  4.40it/s]\u001b[A\u001b[A\u001b[A\n",
            "\n",
            "\n",
            "openssl-3.5.1        | 3.0 MB    | :  32% 0.31920260670545725/1 [00:00<00:00,  1.29s/it]\n",
            "conda-24.11.3        | 1.1 MB    | : 100% 1.0/1 [00:00<00:00,  1.89it/s]\u001b[A\n",
            "                                                                        \n",
            "                                                                        \u001b[A\n",
            "\n",
            "                                                                        \u001b[A\u001b[A\n",
            "\n",
            "\n",
            "                                                                        \u001b[A\u001b[A\u001b[A\n",
            "\n",
            "\n",
            "\n",
            "                                                                        \u001b[A\u001b[A\u001b[A\u001b[A\n",
            "Preparing transaction: - \b\bdone\n",
            "Verifying transaction: | \b\b/ \b\b- \b\bdone\n",
            "Executing transaction: | \b\b/ \b\b- \b\b\\ \b\b| \b\b/ \b\b- \b\b\\ \b\b| \b\b/ \b\b- \b\b\\ \b\b| \b\b/ \b\b- \b\bdone\n"
          ]
        }
      ]
    },
    {
      "cell_type": "markdown",
      "source": [
        "# Annotation Preparation"
      ],
      "metadata": {
        "id": "2-mVBgPvXb8s"
      }
    },
    {
      "cell_type": "code",
      "execution_count": 2,
      "metadata": {
        "colab": {
          "base_uri": "https://localhost:8080/"
        },
        "id": "KfG7AXQBMiEe",
        "outputId": "04935ad4-0479-47a3-f9e1-1be221811775"
      },
      "outputs": [
        {
          "output_type": "stream",
          "name": "stdout",
          "text": [
            "Downloading from https://www.kaggle.com/api/v1/datasets/download/lazyrac00n/speech-activity-detection-datasets?dataset_version_number=1...\n"
          ]
        },
        {
          "output_type": "stream",
          "name": "stderr",
          "text": [
            "100%|██████████| 138M/138M [00:00<00:00, 160MB/s]"
          ]
        },
        {
          "output_type": "stream",
          "name": "stdout",
          "text": [
            "Extracting files...\n"
          ]
        },
        {
          "output_type": "stream",
          "name": "stderr",
          "text": [
            "\n"
          ]
        },
        {
          "output_type": "stream",
          "name": "stdout",
          "text": [
            "Path to dataset files: /root/.cache/kagglehub/datasets/lazyrac00n/speech-activity-detection-datasets/versions/1\n"
          ]
        }
      ],
      "source": [
        "import kagglehub\n",
        "\n",
        "# Download latest version\n",
        "path = kagglehub.dataset_download(\"lazyrac00n/speech-activity-detection-datasets\")\n",
        "\n",
        "print(\"Path to dataset files:\", path)"
      ]
    },
    {
      "cell_type": "code",
      "source": [
        "dir = '/root/.cache/kagglehub/datasets/lazyrac00n/speech-activity-detection-datasets/versions/1/Data'"
      ],
      "metadata": {
        "id": "rX9zSPDeNpzF"
      },
      "execution_count": 3,
      "outputs": []
    },
    {
      "cell_type": "code",
      "source": [
        "'''\n",
        "TODO:\n",
        "- Text grid to Dataframe\n",
        "'''"
      ],
      "metadata": {
        "id": "gTMIdJEJN-zD"
      },
      "execution_count": null,
      "outputs": []
    },
    {
      "cell_type": "code",
      "source": [
        "\n",
        "\n",
        "\n",
        "import os\n",
        "import pandas as pd\n",
        "from textgrid import TextGrid\n",
        "\n",
        "data = []\n",
        "list_dir = []\n",
        "\n",
        "for dirname, _, filenames in os.walk(f'{dir}/Annotation'):\n",
        "    for filename in filenames:\n",
        "        if not filename.endswith('.TextGrid'):\n",
        "            continue\n",
        "\n",
        "        tg_path = os.path.join(dirname, filename)\n",
        "        tg = TextGrid.fromFile(tg_path)\n",
        "\n",
        "        for interval in tg[0]:\n",
        "            data.append({\n",
        "                'name': filename.replace('.TextGrid', ''),\n",
        "                'mark': interval.mark,\n",
        "                'start': interval.minTime,\n",
        "                'end': interval.maxTime,\n",
        "                'tg_path': tg_path,\n",
        "            })\n",
        "\n",
        "df = pd.DataFrame(data)"
      ],
      "metadata": {
        "id": "cbMO6woNP9Xs"
      },
      "execution_count": 4,
      "outputs": []
    },
    {
      "cell_type": "code",
      "source": [
        "df['audio_path'] = df['tg_path'].str.replace('/Annotation/', '/Audio/', regex=False).str.replace('.TextGrid', '.wav', regex=False)"
      ],
      "metadata": {
        "id": "QLMt4_EVVHy_"
      },
      "execution_count": 5,
      "outputs": []
    },
    {
      "cell_type": "code",
      "source": [
        "df"
      ],
      "metadata": {
        "colab": {
          "base_uri": "https://localhost:8080/",
          "height": 443
        },
        "id": "wQDNzA5NV6yo",
        "outputId": "0f8a29db-6f78-4705-f066-76c3ff0378a6"
      },
      "execution_count": 6,
      "outputs": [
        {
          "output_type": "execute_result",
          "data": {
            "text/plain": [
              "                     name mark    start      end  \\\n",
              "0     sp06_restaurant_sn5    0  0.00000  0.16256   \n",
              "1     sp06_restaurant_sn5    1  0.16256  0.36256   \n",
              "2     sp06_restaurant_sn5    0  0.36256  0.49856   \n",
              "3     sp06_restaurant_sn5    1  0.49856  0.97056   \n",
              "4     sp06_restaurant_sn5    0  0.97056  1.41056   \n",
              "...                   ...  ...      ...      ...   \n",
              "5705       mic_M05_si1216    0  3.77700  3.88900   \n",
              "5706       mic_M05_si1216    1  3.88900  4.03300   \n",
              "5707       mic_M05_si1216    0  4.03300  4.26500   \n",
              "5708       mic_M05_si1216    1  4.26500  4.75300   \n",
              "5709       mic_M05_si1216    0  4.75300  6.13000   \n",
              "\n",
              "                                                tg_path  \\\n",
              "0     /root/.cache/kagglehub/datasets/lazyrac00n/spe...   \n",
              "1     /root/.cache/kagglehub/datasets/lazyrac00n/spe...   \n",
              "2     /root/.cache/kagglehub/datasets/lazyrac00n/spe...   \n",
              "3     /root/.cache/kagglehub/datasets/lazyrac00n/spe...   \n",
              "4     /root/.cache/kagglehub/datasets/lazyrac00n/spe...   \n",
              "...                                                 ...   \n",
              "5705  /root/.cache/kagglehub/datasets/lazyrac00n/spe...   \n",
              "5706  /root/.cache/kagglehub/datasets/lazyrac00n/spe...   \n",
              "5707  /root/.cache/kagglehub/datasets/lazyrac00n/spe...   \n",
              "5708  /root/.cache/kagglehub/datasets/lazyrac00n/spe...   \n",
              "5709  /root/.cache/kagglehub/datasets/lazyrac00n/spe...   \n",
              "\n",
              "                                             audio_path  \n",
              "0     /root/.cache/kagglehub/datasets/lazyrac00n/spe...  \n",
              "1     /root/.cache/kagglehub/datasets/lazyrac00n/spe...  \n",
              "2     /root/.cache/kagglehub/datasets/lazyrac00n/spe...  \n",
              "3     /root/.cache/kagglehub/datasets/lazyrac00n/spe...  \n",
              "4     /root/.cache/kagglehub/datasets/lazyrac00n/spe...  \n",
              "...                                                 ...  \n",
              "5705  /root/.cache/kagglehub/datasets/lazyrac00n/spe...  \n",
              "5706  /root/.cache/kagglehub/datasets/lazyrac00n/spe...  \n",
              "5707  /root/.cache/kagglehub/datasets/lazyrac00n/spe...  \n",
              "5708  /root/.cache/kagglehub/datasets/lazyrac00n/spe...  \n",
              "5709  /root/.cache/kagglehub/datasets/lazyrac00n/spe...  \n",
              "\n",
              "[5710 rows x 6 columns]"
            ],
            "text/html": [
              "\n",
              "  <div id=\"df-ac9ac26e-a361-44a7-bd6f-5bf28a6e5d53\" class=\"colab-df-container\">\n",
              "    <div>\n",
              "<style scoped>\n",
              "    .dataframe tbody tr th:only-of-type {\n",
              "        vertical-align: middle;\n",
              "    }\n",
              "\n",
              "    .dataframe tbody tr th {\n",
              "        vertical-align: top;\n",
              "    }\n",
              "\n",
              "    .dataframe thead th {\n",
              "        text-align: right;\n",
              "    }\n",
              "</style>\n",
              "<table border=\"1\" class=\"dataframe\">\n",
              "  <thead>\n",
              "    <tr style=\"text-align: right;\">\n",
              "      <th></th>\n",
              "      <th>name</th>\n",
              "      <th>mark</th>\n",
              "      <th>start</th>\n",
              "      <th>end</th>\n",
              "      <th>tg_path</th>\n",
              "      <th>audio_path</th>\n",
              "    </tr>\n",
              "  </thead>\n",
              "  <tbody>\n",
              "    <tr>\n",
              "      <th>0</th>\n",
              "      <td>sp06_restaurant_sn5</td>\n",
              "      <td>0</td>\n",
              "      <td>0.00000</td>\n",
              "      <td>0.16256</td>\n",
              "      <td>/root/.cache/kagglehub/datasets/lazyrac00n/spe...</td>\n",
              "      <td>/root/.cache/kagglehub/datasets/lazyrac00n/spe...</td>\n",
              "    </tr>\n",
              "    <tr>\n",
              "      <th>1</th>\n",
              "      <td>sp06_restaurant_sn5</td>\n",
              "      <td>1</td>\n",
              "      <td>0.16256</td>\n",
              "      <td>0.36256</td>\n",
              "      <td>/root/.cache/kagglehub/datasets/lazyrac00n/spe...</td>\n",
              "      <td>/root/.cache/kagglehub/datasets/lazyrac00n/spe...</td>\n",
              "    </tr>\n",
              "    <tr>\n",
              "      <th>2</th>\n",
              "      <td>sp06_restaurant_sn5</td>\n",
              "      <td>0</td>\n",
              "      <td>0.36256</td>\n",
              "      <td>0.49856</td>\n",
              "      <td>/root/.cache/kagglehub/datasets/lazyrac00n/spe...</td>\n",
              "      <td>/root/.cache/kagglehub/datasets/lazyrac00n/spe...</td>\n",
              "    </tr>\n",
              "    <tr>\n",
              "      <th>3</th>\n",
              "      <td>sp06_restaurant_sn5</td>\n",
              "      <td>1</td>\n",
              "      <td>0.49856</td>\n",
              "      <td>0.97056</td>\n",
              "      <td>/root/.cache/kagglehub/datasets/lazyrac00n/spe...</td>\n",
              "      <td>/root/.cache/kagglehub/datasets/lazyrac00n/spe...</td>\n",
              "    </tr>\n",
              "    <tr>\n",
              "      <th>4</th>\n",
              "      <td>sp06_restaurant_sn5</td>\n",
              "      <td>0</td>\n",
              "      <td>0.97056</td>\n",
              "      <td>1.41056</td>\n",
              "      <td>/root/.cache/kagglehub/datasets/lazyrac00n/spe...</td>\n",
              "      <td>/root/.cache/kagglehub/datasets/lazyrac00n/spe...</td>\n",
              "    </tr>\n",
              "    <tr>\n",
              "      <th>...</th>\n",
              "      <td>...</td>\n",
              "      <td>...</td>\n",
              "      <td>...</td>\n",
              "      <td>...</td>\n",
              "      <td>...</td>\n",
              "      <td>...</td>\n",
              "    </tr>\n",
              "    <tr>\n",
              "      <th>5705</th>\n",
              "      <td>mic_M05_si1216</td>\n",
              "      <td>0</td>\n",
              "      <td>3.77700</td>\n",
              "      <td>3.88900</td>\n",
              "      <td>/root/.cache/kagglehub/datasets/lazyrac00n/spe...</td>\n",
              "      <td>/root/.cache/kagglehub/datasets/lazyrac00n/spe...</td>\n",
              "    </tr>\n",
              "    <tr>\n",
              "      <th>5706</th>\n",
              "      <td>mic_M05_si1216</td>\n",
              "      <td>1</td>\n",
              "      <td>3.88900</td>\n",
              "      <td>4.03300</td>\n",
              "      <td>/root/.cache/kagglehub/datasets/lazyrac00n/spe...</td>\n",
              "      <td>/root/.cache/kagglehub/datasets/lazyrac00n/spe...</td>\n",
              "    </tr>\n",
              "    <tr>\n",
              "      <th>5707</th>\n",
              "      <td>mic_M05_si1216</td>\n",
              "      <td>0</td>\n",
              "      <td>4.03300</td>\n",
              "      <td>4.26500</td>\n",
              "      <td>/root/.cache/kagglehub/datasets/lazyrac00n/spe...</td>\n",
              "      <td>/root/.cache/kagglehub/datasets/lazyrac00n/spe...</td>\n",
              "    </tr>\n",
              "    <tr>\n",
              "      <th>5708</th>\n",
              "      <td>mic_M05_si1216</td>\n",
              "      <td>1</td>\n",
              "      <td>4.26500</td>\n",
              "      <td>4.75300</td>\n",
              "      <td>/root/.cache/kagglehub/datasets/lazyrac00n/spe...</td>\n",
              "      <td>/root/.cache/kagglehub/datasets/lazyrac00n/spe...</td>\n",
              "    </tr>\n",
              "    <tr>\n",
              "      <th>5709</th>\n",
              "      <td>mic_M05_si1216</td>\n",
              "      <td>0</td>\n",
              "      <td>4.75300</td>\n",
              "      <td>6.13000</td>\n",
              "      <td>/root/.cache/kagglehub/datasets/lazyrac00n/spe...</td>\n",
              "      <td>/root/.cache/kagglehub/datasets/lazyrac00n/spe...</td>\n",
              "    </tr>\n",
              "  </tbody>\n",
              "</table>\n",
              "<p>5710 rows × 6 columns</p>\n",
              "</div>\n",
              "    <div class=\"colab-df-buttons\">\n",
              "\n",
              "  <div class=\"colab-df-container\">\n",
              "    <button class=\"colab-df-convert\" onclick=\"convertToInteractive('df-ac9ac26e-a361-44a7-bd6f-5bf28a6e5d53')\"\n",
              "            title=\"Convert this dataframe to an interactive table.\"\n",
              "            style=\"display:none;\">\n",
              "\n",
              "  <svg xmlns=\"http://www.w3.org/2000/svg\" height=\"24px\" viewBox=\"0 -960 960 960\">\n",
              "    <path d=\"M120-120v-720h720v720H120Zm60-500h600v-160H180v160Zm220 220h160v-160H400v160Zm0 220h160v-160H400v160ZM180-400h160v-160H180v160Zm440 0h160v-160H620v160ZM180-180h160v-160H180v160Zm440 0h160v-160H620v160Z\"/>\n",
              "  </svg>\n",
              "    </button>\n",
              "\n",
              "  <style>\n",
              "    .colab-df-container {\n",
              "      display:flex;\n",
              "      gap: 12px;\n",
              "    }\n",
              "\n",
              "    .colab-df-convert {\n",
              "      background-color: #E8F0FE;\n",
              "      border: none;\n",
              "      border-radius: 50%;\n",
              "      cursor: pointer;\n",
              "      display: none;\n",
              "      fill: #1967D2;\n",
              "      height: 32px;\n",
              "      padding: 0 0 0 0;\n",
              "      width: 32px;\n",
              "    }\n",
              "\n",
              "    .colab-df-convert:hover {\n",
              "      background-color: #E2EBFA;\n",
              "      box-shadow: 0px 1px 2px rgba(60, 64, 67, 0.3), 0px 1px 3px 1px rgba(60, 64, 67, 0.15);\n",
              "      fill: #174EA6;\n",
              "    }\n",
              "\n",
              "    .colab-df-buttons div {\n",
              "      margin-bottom: 4px;\n",
              "    }\n",
              "\n",
              "    [theme=dark] .colab-df-convert {\n",
              "      background-color: #3B4455;\n",
              "      fill: #D2E3FC;\n",
              "    }\n",
              "\n",
              "    [theme=dark] .colab-df-convert:hover {\n",
              "      background-color: #434B5C;\n",
              "      box-shadow: 0px 1px 3px 1px rgba(0, 0, 0, 0.15);\n",
              "      filter: drop-shadow(0px 1px 2px rgba(0, 0, 0, 0.3));\n",
              "      fill: #FFFFFF;\n",
              "    }\n",
              "  </style>\n",
              "\n",
              "    <script>\n",
              "      const buttonEl =\n",
              "        document.querySelector('#df-ac9ac26e-a361-44a7-bd6f-5bf28a6e5d53 button.colab-df-convert');\n",
              "      buttonEl.style.display =\n",
              "        google.colab.kernel.accessAllowed ? 'block' : 'none';\n",
              "\n",
              "      async function convertToInteractive(key) {\n",
              "        const element = document.querySelector('#df-ac9ac26e-a361-44a7-bd6f-5bf28a6e5d53');\n",
              "        const dataTable =\n",
              "          await google.colab.kernel.invokeFunction('convertToInteractive',\n",
              "                                                    [key], {});\n",
              "        if (!dataTable) return;\n",
              "\n",
              "        const docLinkHtml = 'Like what you see? Visit the ' +\n",
              "          '<a target=\"_blank\" href=https://colab.research.google.com/notebooks/data_table.ipynb>data table notebook</a>'\n",
              "          + ' to learn more about interactive tables.';\n",
              "        element.innerHTML = '';\n",
              "        dataTable['output_type'] = 'display_data';\n",
              "        await google.colab.output.renderOutput(dataTable, element);\n",
              "        const docLink = document.createElement('div');\n",
              "        docLink.innerHTML = docLinkHtml;\n",
              "        element.appendChild(docLink);\n",
              "      }\n",
              "    </script>\n",
              "  </div>\n",
              "\n",
              "\n",
              "    <div id=\"df-e248329c-b6be-4e06-976c-968058c15d83\">\n",
              "      <button class=\"colab-df-quickchart\" onclick=\"quickchart('df-e248329c-b6be-4e06-976c-968058c15d83')\"\n",
              "                title=\"Suggest charts\"\n",
              "                style=\"display:none;\">\n",
              "\n",
              "<svg xmlns=\"http://www.w3.org/2000/svg\" height=\"24px\"viewBox=\"0 0 24 24\"\n",
              "     width=\"24px\">\n",
              "    <g>\n",
              "        <path d=\"M19 3H5c-1.1 0-2 .9-2 2v14c0 1.1.9 2 2 2h14c1.1 0 2-.9 2-2V5c0-1.1-.9-2-2-2zM9 17H7v-7h2v7zm4 0h-2V7h2v10zm4 0h-2v-4h2v4z\"/>\n",
              "    </g>\n",
              "</svg>\n",
              "      </button>\n",
              "\n",
              "<style>\n",
              "  .colab-df-quickchart {\n",
              "      --bg-color: #E8F0FE;\n",
              "      --fill-color: #1967D2;\n",
              "      --hover-bg-color: #E2EBFA;\n",
              "      --hover-fill-color: #174EA6;\n",
              "      --disabled-fill-color: #AAA;\n",
              "      --disabled-bg-color: #DDD;\n",
              "  }\n",
              "\n",
              "  [theme=dark] .colab-df-quickchart {\n",
              "      --bg-color: #3B4455;\n",
              "      --fill-color: #D2E3FC;\n",
              "      --hover-bg-color: #434B5C;\n",
              "      --hover-fill-color: #FFFFFF;\n",
              "      --disabled-bg-color: #3B4455;\n",
              "      --disabled-fill-color: #666;\n",
              "  }\n",
              "\n",
              "  .colab-df-quickchart {\n",
              "    background-color: var(--bg-color);\n",
              "    border: none;\n",
              "    border-radius: 50%;\n",
              "    cursor: pointer;\n",
              "    display: none;\n",
              "    fill: var(--fill-color);\n",
              "    height: 32px;\n",
              "    padding: 0;\n",
              "    width: 32px;\n",
              "  }\n",
              "\n",
              "  .colab-df-quickchart:hover {\n",
              "    background-color: var(--hover-bg-color);\n",
              "    box-shadow: 0 1px 2px rgba(60, 64, 67, 0.3), 0 1px 3px 1px rgba(60, 64, 67, 0.15);\n",
              "    fill: var(--button-hover-fill-color);\n",
              "  }\n",
              "\n",
              "  .colab-df-quickchart-complete:disabled,\n",
              "  .colab-df-quickchart-complete:disabled:hover {\n",
              "    background-color: var(--disabled-bg-color);\n",
              "    fill: var(--disabled-fill-color);\n",
              "    box-shadow: none;\n",
              "  }\n",
              "\n",
              "  .colab-df-spinner {\n",
              "    border: 2px solid var(--fill-color);\n",
              "    border-color: transparent;\n",
              "    border-bottom-color: var(--fill-color);\n",
              "    animation:\n",
              "      spin 1s steps(1) infinite;\n",
              "  }\n",
              "\n",
              "  @keyframes spin {\n",
              "    0% {\n",
              "      border-color: transparent;\n",
              "      border-bottom-color: var(--fill-color);\n",
              "      border-left-color: var(--fill-color);\n",
              "    }\n",
              "    20% {\n",
              "      border-color: transparent;\n",
              "      border-left-color: var(--fill-color);\n",
              "      border-top-color: var(--fill-color);\n",
              "    }\n",
              "    30% {\n",
              "      border-color: transparent;\n",
              "      border-left-color: var(--fill-color);\n",
              "      border-top-color: var(--fill-color);\n",
              "      border-right-color: var(--fill-color);\n",
              "    }\n",
              "    40% {\n",
              "      border-color: transparent;\n",
              "      border-right-color: var(--fill-color);\n",
              "      border-top-color: var(--fill-color);\n",
              "    }\n",
              "    60% {\n",
              "      border-color: transparent;\n",
              "      border-right-color: var(--fill-color);\n",
              "    }\n",
              "    80% {\n",
              "      border-color: transparent;\n",
              "      border-right-color: var(--fill-color);\n",
              "      border-bottom-color: var(--fill-color);\n",
              "    }\n",
              "    90% {\n",
              "      border-color: transparent;\n",
              "      border-bottom-color: var(--fill-color);\n",
              "    }\n",
              "  }\n",
              "</style>\n",
              "\n",
              "      <script>\n",
              "        async function quickchart(key) {\n",
              "          const quickchartButtonEl =\n",
              "            document.querySelector('#' + key + ' button');\n",
              "          quickchartButtonEl.disabled = true;  // To prevent multiple clicks.\n",
              "          quickchartButtonEl.classList.add('colab-df-spinner');\n",
              "          try {\n",
              "            const charts = await google.colab.kernel.invokeFunction(\n",
              "                'suggestCharts', [key], {});\n",
              "          } catch (error) {\n",
              "            console.error('Error during call to suggestCharts:', error);\n",
              "          }\n",
              "          quickchartButtonEl.classList.remove('colab-df-spinner');\n",
              "          quickchartButtonEl.classList.add('colab-df-quickchart-complete');\n",
              "        }\n",
              "        (() => {\n",
              "          let quickchartButtonEl =\n",
              "            document.querySelector('#df-e248329c-b6be-4e06-976c-968058c15d83 button');\n",
              "          quickchartButtonEl.style.display =\n",
              "            google.colab.kernel.accessAllowed ? 'block' : 'none';\n",
              "        })();\n",
              "      </script>\n",
              "    </div>\n",
              "\n",
              "  <div id=\"id_2919371b-6dfa-4aef-b334-e7d55f59b709\">\n",
              "    <style>\n",
              "      .colab-df-generate {\n",
              "        background-color: #E8F0FE;\n",
              "        border: none;\n",
              "        border-radius: 50%;\n",
              "        cursor: pointer;\n",
              "        display: none;\n",
              "        fill: #1967D2;\n",
              "        height: 32px;\n",
              "        padding: 0 0 0 0;\n",
              "        width: 32px;\n",
              "      }\n",
              "\n",
              "      .colab-df-generate:hover {\n",
              "        background-color: #E2EBFA;\n",
              "        box-shadow: 0px 1px 2px rgba(60, 64, 67, 0.3), 0px 1px 3px 1px rgba(60, 64, 67, 0.15);\n",
              "        fill: #174EA6;\n",
              "      }\n",
              "\n",
              "      [theme=dark] .colab-df-generate {\n",
              "        background-color: #3B4455;\n",
              "        fill: #D2E3FC;\n",
              "      }\n",
              "\n",
              "      [theme=dark] .colab-df-generate:hover {\n",
              "        background-color: #434B5C;\n",
              "        box-shadow: 0px 1px 3px 1px rgba(0, 0, 0, 0.15);\n",
              "        filter: drop-shadow(0px 1px 2px rgba(0, 0, 0, 0.3));\n",
              "        fill: #FFFFFF;\n",
              "      }\n",
              "    </style>\n",
              "    <button class=\"colab-df-generate\" onclick=\"generateWithVariable('df')\"\n",
              "            title=\"Generate code using this dataframe.\"\n",
              "            style=\"display:none;\">\n",
              "\n",
              "  <svg xmlns=\"http://www.w3.org/2000/svg\" height=\"24px\"viewBox=\"0 0 24 24\"\n",
              "       width=\"24px\">\n",
              "    <path d=\"M7,19H8.4L18.45,9,17,7.55,7,17.6ZM5,21V16.75L18.45,3.32a2,2,0,0,1,2.83,0l1.4,1.43a1.91,1.91,0,0,1,.58,1.4,1.91,1.91,0,0,1-.58,1.4L9.25,21ZM18.45,9,17,7.55Zm-12,3A5.31,5.31,0,0,0,4.9,8.1,5.31,5.31,0,0,0,1,6.5,5.31,5.31,0,0,0,4.9,4.9,5.31,5.31,0,0,0,6.5,1,5.31,5.31,0,0,0,8.1,4.9,5.31,5.31,0,0,0,12,6.5,5.46,5.46,0,0,0,6.5,12Z\"/>\n",
              "  </svg>\n",
              "    </button>\n",
              "    <script>\n",
              "      (() => {\n",
              "      const buttonEl =\n",
              "        document.querySelector('#id_2919371b-6dfa-4aef-b334-e7d55f59b709 button.colab-df-generate');\n",
              "      buttonEl.style.display =\n",
              "        google.colab.kernel.accessAllowed ? 'block' : 'none';\n",
              "\n",
              "      buttonEl.onclick = () => {\n",
              "        google.colab.notebook.generateWithVariable('df');\n",
              "      }\n",
              "      })();\n",
              "    </script>\n",
              "  </div>\n",
              "\n",
              "    </div>\n",
              "  </div>\n"
            ],
            "application/vnd.google.colaboratory.intrinsic+json": {
              "type": "dataframe",
              "variable_name": "df",
              "summary": "{\n  \"name\": \"df\",\n  \"rows\": 5710,\n  \"fields\": [\n    {\n      \"column\": \"name\",\n      \"properties\": {\n        \"dtype\": \"category\",\n        \"num_unique_values\": 717,\n        \"samples\": [\n          \"sp13_train_sn5\",\n          \"SX301\",\n          \"sp09_street_sn5\"\n        ],\n        \"semantic_type\": \"\",\n        \"description\": \"\"\n      }\n    },\n    {\n      \"column\": \"mark\",\n      \"properties\": {\n        \"dtype\": \"category\",\n        \"num_unique_values\": 2,\n        \"samples\": [\n          \"1\",\n          \"0\"\n        ],\n        \"semantic_type\": \"\",\n        \"description\": \"\"\n      }\n    },\n    {\n      \"column\": \"start\",\n      \"properties\": {\n        \"dtype\": \"number\",\n        \"std\": 1.9264376457611863,\n        \"min\": 0.0,\n        \"max\": 9.276,\n        \"num_unique_values\": 2820,\n        \"samples\": [\n          1.94481,\n          3.456\n        ],\n        \"semantic_type\": \"\",\n        \"description\": \"\"\n      }\n    },\n    {\n      \"column\": \"end\",\n      \"properties\": {\n        \"dtype\": \"number\",\n        \"std\": 2.0036901604915287,\n        \"min\": 0.12163,\n        \"max\": 11.2,\n        \"num_unique_values\": 3104,\n        \"samples\": [\n          5.38533,\n          6.208\n        ],\n        \"semantic_type\": \"\",\n        \"description\": \"\"\n      }\n    },\n    {\n      \"column\": \"tg_path\",\n      \"properties\": {\n        \"dtype\": \"category\",\n        \"num_unique_values\": 719,\n        \"samples\": [\n          \"/root/.cache/kagglehub/datasets/lazyrac00n/speech-activity-detection-datasets/versions/1/Data/Annotation/Noizeus/Train/sp13_train_sn5.TextGrid\",\n          \"/root/.cache/kagglehub/datasets/lazyrac00n/speech-activity-detection-datasets/versions/1/Data/Annotation/Noizeus/Car/sp25_car_sn5.TextGrid\"\n        ],\n        \"semantic_type\": \"\",\n        \"description\": \"\"\n      }\n    },\n    {\n      \"column\": \"audio_path\",\n      \"properties\": {\n        \"dtype\": \"category\",\n        \"num_unique_values\": 719,\n        \"samples\": [\n          \"/root/.cache/kagglehub/datasets/lazyrac00n/speech-activity-detection-datasets/versions/1/Data/Audio/Noizeus/Train/sp13_train_sn5.wav\",\n          \"/root/.cache/kagglehub/datasets/lazyrac00n/speech-activity-detection-datasets/versions/1/Data/Audio/Noizeus/Car/sp25_car_sn5.wav\"\n        ],\n        \"semantic_type\": \"\",\n        \"description\": \"\"\n      }\n    }\n  ]\n}"
            }
          },
          "metadata": {},
          "execution_count": 6
        }
      ]
    },
    {
      "cell_type": "markdown",
      "source": [
        "# Dataset Preprocessing"
      ],
      "metadata": {
        "id": "3uCEcHBDXjeI"
      }
    },
    {
      "cell_type": "code",
      "source": [
        "'''\n",
        "TODO:\n",
        "- Padding\n",
        "- Audio Framing\n",
        "\n",
        "Flow: Padding -> Audio Framing\n",
        "'''"
      ],
      "metadata": {
        "id": "-sRYYJ2xXp5E"
      },
      "execution_count": 11,
      "outputs": []
    },
    {
      "cell_type": "code",
      "source": [
        "# audio framing\n",
        "\n",
        "import librosa\n",
        "import librosa.util\n",
        "\n",
        "audio_sample_dir = df['audio_path'][0]\n",
        "audio, sr = librosa.load(audio_sample_dir, sr=16000)\n",
        "\n",
        "frame_dur = 0.025\n",
        "frame_length = int(frame_dur * sr)\n",
        "\n",
        "hop_dur = 0.01\n",
        "hop_length = int(hop_dur * sr)\n",
        "frames = librosa.util.frame(audio, frame_length=frame_length, hop_length=hop_length)\n",
        "frames = frames.T\n"
      ],
      "metadata": {
        "id": "-_Uccf-F4HK1"
      },
      "execution_count": null,
      "outputs": []
    },
    {
      "cell_type": "code",
      "source": [
        "# duration\n",
        "\n",
        "import librosa\n",
        "import matplotlib.pyplot as plt\n",
        "duration_list = []\n",
        "for audio_path in df['audio_path']:\n",
        "    audio, sr = librosa.load(audio_path, sr=16000)\n",
        "    duration = librosa.get_duration(y=audio, sr=sr)\n",
        "    duration_list.append(duration)\n",
        "\n",
        "# histogram\n",
        "\n",
        "plt.figure(figsize=(8, 4))\n",
        "plt.hist(duration_list, bins=20, color='skyblue', edgecolor='black')\n",
        "plt.title(\"Histogram of Audio Durations\")\n",
        "plt.xlabel(\"Duration (seconds)\")\n",
        "plt.ylabel(\"Number of audio files\")\n",
        "plt.grid(True)\n",
        "plt.tight_layout()\n",
        "plt.show()\n",
        "\n"
      ],
      "metadata": {
        "colab": {
          "base_uri": "https://localhost:8080/",
          "height": 407
        },
        "id": "Wdk5tDy4xKVE",
        "outputId": "be0a2eba-97eb-4f2f-89d9-1b48fa64251e"
      },
      "execution_count": 14,
      "outputs": [
        {
          "output_type": "display_data",
          "data": {
            "text/plain": [
              "<Figure size 800x400 with 1 Axes>"
            ],
            "image/png": "[encoded data removed]"
          },
          "metadata": {}
        }
      ]
    },
    {
      "cell_type": "code",
      "source": [
        "print(max(duration_list))"
      ],
      "metadata": {
        "colab": {
          "base_uri": "https://localhost:8080/"
        },
        "id": "sxWBT0y24aQt",
        "outputId": "fddef88f-8fa6-499e-cb99-d4e42414e624"
      },
      "execution_count": 16,
      "outputs": [
        {
          "output_type": "stream",
          "name": "stdout",
          "text": [
            "11.2\n"
          ]
        }
      ]
    },
    {
      "cell_type": "code",
      "source": [
        "import kagglehub\n",
        "import os\n",
        "import pandas as pd\n",
        "from textgrid import TextGrid\n",
        "import librosa\n",
        "import torch\n",
        "\n",
        "def download_data() -> str:\n",
        "\n",
        "    # Download latest version\n",
        "    path = kagglehub.dataset_download(\"lazyrac00n/speech-activity-detection-datasets\")\n",
        "\n",
        "    return path\n",
        "\n",
        "def build_dataframe(data_dir: str) -> pd.DataFrame:\n",
        "    data = []\n",
        "    list_dir = []\n",
        "\n",
        "    for dirname, _, filenames in os.walk(f'{data_dir}/Annotation'):\n",
        "        for filename in filenames:\n",
        "            if not filename.endswith('.TextGrid'):\n",
        "                continue\n",
        "\n",
        "            tg_path = os.path.join(dirname, filename)\n",
        "            tg = TextGrid.fromFile(tg_path)\n",
        "\n",
        "            for interval in tg[0]:\n",
        "                data.append({\n",
        "                    'name': filename.replace('.TextGrid', ''),\n",
        "                    'mark': interval.mark,\n",
        "                    'start': interval.minTime,\n",
        "                    'end': interval.maxTime,\n",
        "                    'tg_path': tg_path,\n",
        "                })\n",
        "\n",
        "    df = pd.DataFrame(data)\n",
        "    df['audio_path'] = df['tg_path'].str.replace('/Annotation/', '/Audio/', regex=False).str.replace('.TextGrid', '.wav', regex=False)\n",
        "    df['duration'] = df['audio_path'].apply(lambda x: librosa.get_duration(filename=x))\n",
        "    return df\n",
        "\n",
        "def padding(audio, sr, max_length):\n",
        "  audio = librosa.util.fix_length(audio, size = max_length * sr)\n",
        "  return audio\n",
        "\n",
        "def get_frames(audio, sr, frame_dur = 0.025, hop_dur = 0.01):\n",
        "  frame_dur = frame_dur\n",
        "  frame_length = int(frame_dur * sr)\n",
        "\n",
        "  hop_dur = hop_dur\n",
        "  hop_length = int(hop_dur * sr)\n",
        "  frames = librosa.util.frame(audio, frame_length=frame_length, hop_length=hop_length)\n",
        "  frames = frames.T\n",
        "  return frames # (num_frame, frame_size)\n",
        "\n",
        "\n",
        "def transform(path, max_length = None):\n",
        "  audio, sr = librosa.load(path, sr=16000)\n",
        "  # padding\n",
        "  if max_length is None:\n",
        "    max_length = librosa.get_duration(y=audio, sr=sr)\n",
        "  audio = padding(audio, sr, max_length)\n",
        "  # framing\n",
        "  frames = get_frames(audio, sr)\n",
        "  # to tensor\n",
        "  tensor = torch.from_numpy(frames)\n",
        "  return tensor\n",
        "\n",
        "\n",
        "# tạo được kiểu dữ liệu là frames luôn thì tốt\n",
        "\n",
        "def get_label(frames, frame_dur, hop_dur, sr, path: str, df: pd.DataFrame, num_overlap: int = 2):\n",
        "  label = torch.zeros(frames.shape[0])\n",
        "  df_label = df[df['audio_path'] == path]\n",
        "\n",
        "  for i in range(len(df_label)):\n",
        "    mark = df_label.iloc[i]['mark']\n",
        "    if mark == '1':\n",
        "      start = df_label.iloc[i]['start']\n",
        "      end = df_label.iloc[i]['end']\n",
        "\n",
        "      frame_start = round((start - frame_dur)/hop_dur) - num_overlap\n",
        "      frame_end = round(end/hop_dur) + num_overlap\n",
        "\n",
        "      if frame_start < 0:\n",
        "        frame_start = 0\n",
        "\n",
        "      if frame_end > frames.shape[0]:\n",
        "        frame_end = frames.shape[0]\n",
        "\n",
        "      label[frame_start:frame_end] = 1\n",
        "    else:\n",
        "      continue\n",
        "\n",
        "  return label\n"
      ],
      "metadata": {
        "id": "SdamL4365fyQ"
      },
      "execution_count": 35,
      "outputs": []
    },
    {
      "cell_type": "code",
      "source": [
        "# Test\n",
        "\n",
        "path_test = df['audio_path'][0]\n",
        "audio, sr = librosa.load(path_test, sr=16000)\n",
        "\n",
        "frames = transform(path_test)\n",
        "print(frames.shape)\n",
        "\n",
        "label = get_label(frames, frame_dur = 0.025, hop_dur = 0.01, sr = 16000, path = path_test, df = df)\n",
        "print(label.shape)"
      ],
      "metadata": {
        "colab": {
          "base_uri": "https://localhost:8080/"
        },
        "id": "euPoSwCZTWjo",
        "outputId": "3c8bfb3b-f7ac-489b-c397-70ab281928aa"
      },
      "execution_count": 36,
      "outputs": [
        {
          "output_type": "stream",
          "name": "stdout",
          "text": [
            "torch.Size([271, 400])\n",
            "torch.Size([271])\n"
          ]
        }
      ]
    },
    {
      "cell_type": "code",
      "source": [
        "plt.plot(label)"
      ],
      "metadata": {
        "colab": {
          "base_uri": "https://localhost:8080/",
          "height": 448
        },
        "id": "MBChzwyBZqgv",
        "outputId": "912af179-22fa-4288-b0c5-9a31d3456805"
      },
      "execution_count": 37,
      "outputs": [
        {
          "output_type": "execute_result",
          "data": {
            "text/plain": [
              "[<matplotlib.lines.Line2D at 0x78ee4b2cdc90>]"
            ]
          },
          "metadata": {},
          "execution_count": 37
        },
        {
          "output_type": "display_data",
          "data": {
            "text/plain": [
              "<Figure size 640x480 with 1 Axes>"
            ],
            "image/png": "[encoded data removed]"
          },
          "metadata": {}
        }
      ]
    },
    {
      "cell_type": "code",
      "source": [
        "librosa.display.waveshow(audio, sr=sr)\n",
        "plt.show()"
      ],
      "metadata": {
        "colab": {
          "base_uri": "https://localhost:8080/",
          "height": 449
        },
        "id": "V-bl596RZsjR",
        "outputId": "9e76eed7-0985-40d4-9822-136ee11c0028"
      },
      "execution_count": 38,
      "outputs": [
        {
          "output_type": "display_data",
          "data": {
            "text/plain": [
              "<Figure size 640x480 with 1 Axes>"
            ],
            "image/png": "[encoded data removed]"
          },
          "metadata": {}
        }
      ]
    },
    {
      "cell_type": "code",
      "source": [
        "from torch.utils.data import Dataset\n",
        "\n",
        "class AudioDataset(Dataset):\n",
        "  def __init__(self, df: pd.DataFrame, transform = None):\n",
        "    self.df = df\n",
        "    self.transform = transform\n",
        "\n",
        "  def __len__(self):\n",
        "    return len(self.df)\n",
        "\n",
        "  def __getitem__(self, idx):\n",
        "    df_path = df['audio_path'].drop_duplicates().reset_index(drop=True)\n",
        "    row = self.df_path.iloc[idx]\n",
        "    waveform, sr = torchaudio.load(row[\"audio_path\"])\n",
        "\n",
        "    if self.transform:\n",
        "      waveform = self.transform(waveform)\n",
        "\n",
        "    return waveform,\n",
        "\n"
      ],
      "metadata": {
        "id": "Cw-kfT0cJzSp"
      },
      "execution_count": null,
      "outputs": []
    },
    {
      "cell_type": "code",
      "source": [
        "df_path = df['audio_path'].drop_duplicates().reset_index(drop=True)"
      ],
      "metadata": {
        "id": "nNJ-q2vdNE8M"
      },
      "execution_count": 21,
      "outputs": []
    },
    {
      "cell_type": "code",
      "source": [
        "df_path"
      ],
      "metadata": {
        "colab": {
          "base_uri": "https://localhost:8080/",
          "height": 458
        },
        "id": "Q-N1YOKiPcfm",
        "outputId": "15808c73-d0be-402c-9c01-cbfb475965a5"
      },
      "execution_count": 22,
      "outputs": [
        {
          "output_type": "execute_result",
          "data": {
            "text/plain": [
              "0      /root/.cache/kagglehub/datasets/lazyrac00n/spe...\n",
              "1      /root/.cache/kagglehub/datasets/lazyrac00n/spe...\n",
              "2      /root/.cache/kagglehub/datasets/lazyrac00n/spe...\n",
              "3      /root/.cache/kagglehub/datasets/lazyrac00n/spe...\n",
              "4      /root/.cache/kagglehub/datasets/lazyrac00n/spe...\n",
              "                             ...                        \n",
              "714    /root/.cache/kagglehub/datasets/lazyrac00n/spe...\n",
              "715    /root/.cache/kagglehub/datasets/lazyrac00n/spe...\n",
              "716    /root/.cache/kagglehub/datasets/lazyrac00n/spe...\n",
              "717    /root/.cache/kagglehub/datasets/lazyrac00n/spe...\n",
              "718    /root/.cache/kagglehub/datasets/lazyrac00n/spe...\n",
              "Name: audio_path, Length: 719, dtype: object"
            ],
            "text/html": [
              "<div>\n",
              "<style scoped>\n",
              "    .dataframe tbody tr th:only-of-type {\n",
              "        vertical-align: middle;\n",
              "    }\n",
              "\n",
              "    .dataframe tbody tr th {\n",
              "        vertical-align: top;\n",
              "    }\n",
              "\n",
              "    .dataframe thead th {\n",
              "        text-align: right;\n",
              "    }\n",
              "</style>\n",
              "<table border=\"1\" class=\"dataframe\">\n",
              "  <thead>\n",
              "    <tr style=\"text-align: right;\">\n",
              "      <th></th>\n",
              "      <th>audio_path</th>\n",
              "    </tr>\n",
              "  </thead>\n",
              "  <tbody>\n",
              "    <tr>\n",
              "      <th>0</th>\n",
              "      <td>/root/.cache/kagglehub/datasets/lazyrac00n/spe...</td>\n",
              "    </tr>\n",
              "    <tr>\n",
              "      <th>1</th>\n",
              "      <td>/root/.cache/kagglehub/datasets/lazyrac00n/spe...</td>\n",
              "    </tr>\n",
              "    <tr>\n",
              "      <th>2</th>\n",
              "      <td>/root/.cache/kagglehub/datasets/lazyrac00n/spe...</td>\n",
              "    </tr>\n",
              "    <tr>\n",
              "      <th>3</th>\n",
              "      <td>/root/.cache/kagglehub/datasets/lazyrac00n/spe...</td>\n",
              "    </tr>\n",
              "    <tr>\n",
              "      <th>4</th>\n",
              "      <td>/root/.cache/kagglehub/datasets/lazyrac00n/spe...</td>\n",
              "    </tr>\n",
              "    <tr>\n",
              "      <th>...</th>\n",
              "      <td>...</td>\n",
              "    </tr>\n",
              "    <tr>\n",
              "      <th>714</th>\n",
              "      <td>/root/.cache/kagglehub/datasets/lazyrac00n/spe...</td>\n",
              "    </tr>\n",
              "    <tr>\n",
              "      <th>715</th>\n",
              "      <td>/root/.cache/kagglehub/datasets/lazyrac00n/spe...</td>\n",
              "    </tr>\n",
              "    <tr>\n",
              "      <th>716</th>\n",
              "      <td>/root/.cache/kagglehub/datasets/lazyrac00n/spe...</td>\n",
              "    </tr>\n",
              "    <tr>\n",
              "      <th>717</th>\n",
              "      <td>/root/.cache/kagglehub/datasets/lazyrac00n/spe...</td>\n",
              "    </tr>\n",
              "    <tr>\n",
              "      <th>718</th>\n",
              "      <td>/root/.cache/kagglehub/datasets/lazyrac00n/spe...</td>\n",
              "    </tr>\n",
              "  </tbody>\n",
              "</table>\n",
              "<p>719 rows × 1 columns</p>\n",
              "</div><br><label><b>dtype:</b> object</label>"
            ]
          },
          "metadata": {},
          "execution_count": 22
        }
      ]
    },
    {
      "cell_type": "markdown",
      "source": [
        "# Model"
      ],
      "metadata": {
        "id": "Sd9CmITaY9Yo"
      }
    },
    {
      "cell_type": "code",
      "source": [],
      "metadata": {
        "id": "bFDYgqAwY-l4"
      },
      "execution_count": null,
      "outputs": []
    }
  ]
}